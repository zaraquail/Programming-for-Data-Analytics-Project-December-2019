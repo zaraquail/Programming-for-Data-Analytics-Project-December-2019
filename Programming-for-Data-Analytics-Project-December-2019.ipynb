{
 "cells": [
  {
   "cell_type": "markdown",
   "metadata": {},
   "source": [
    "# Programming for Data Analytics Project December 2019"
   ]
  },
  {
   "cell_type": "markdown",
   "metadata": {},
   "source": [
    "Student: Zara Quail \n",
    "\n",
    "Student Number: G00376517"
   ]
  },
  {
   "cell_type": "markdown",
   "metadata": {},
   "source": [
    "## Description of a real-world phenomenon for simulation: Problem statement\n",
    "\n",
    "I work for a company providing non-pharmacological therapy and activity sessions for people living with dementia. There are free group sessions offered at community centres in the area in which the company are working. The therapies and activities are most effective when applied regularly and it has been shown that regular attendance is related to better outcomes. However there are some attendees who do not attend regularly or who stop attending. \n",
    "\n",
    "People living with dementia have a number of symptoms affecting their cognition for which cognitive stimulation therapy (CST) has been shown to be an effective non-pharmacological intervention with results comparable to pharmaceutical trial outcomes,(<a href=\"/#ref1\">1</a>,&nbsp;<a href=\"/#ref2\">2</a>) and is recommended by national and international guideline.(<a href=\"/#ref3\">3</a>,&nbsp;<a href=\"/#ref4\">4</a>) Cognitive stimulation is defined as “engaging in a range of activities and discussions that are aimed at general improvement of cognitive and social functioning”.(<a href=\"/#ref3\">3</a>) CST is recommended for people with mild to moderate dementia and is usually delivered in a group setting.(<a href=\"/#ref3\">3</a>) Numerous trials have shown that CST is an effective treatment to improve cognition (including memory, orientation, language and visuospatial abilities) and quality of life in people with mild to moderate dementia.(<a href=\"/#ref2\">2</a>) The group session are usually delivered as a 14-session programme delivered twice a week over 7 weeks in a group setting.(<a href=\"/#ref1\">1</a>,&nbsp;<a href=\"/#ref5\">5</a>) However, in order to ensure efficacy of the intervention, regular attendance at the group sessions over the 7 weeks is required. In planning implementation of community-based group cognitive stimulation therapy sessions in the real-world setting for the company I work for, we aim to identify potential barriers to group session attendance and plan measures to overcome barriers to attendance. The barriers in this case are specific variables. In assessing the potential variables and data relating to this, I have looked for studies that assess barriers to attendance at group activities for older people, where possible focusing on those living with dementia in the community (rather than in care homes or residential facilities). Studies on implementation of CST programmes in various communities are still underway,(<a href=\"/#ref6\">6</a>) but in general, identified barriers to dementia care programmes and the likes of CST include lack of awareness of dementia and available supports; training and support of staff to deliver CST; cultural, gender and age issues; language barriers; transport and proximity to the centre in which the programme is delivered.(<a href=\"/#ref6\">6</a>,&nbsp;<a href=\"/#ref7\">7</a>) While our staff are already trained in CST and there is a community engagement team increasing awareness on dementia, there are modifiable issues that the company can potentially address to ensure attendance at group sessions. Based on previous experience in setting up the group sessions, I hypothesise that the relevant variables affecting attendance may include the stage or severity of the dementia, the distance at which the participant lives from the community centre, available support in their living environment, their mobility and related to mobility, their available transport and their home language. I would like to address the issues for which we could arrange relevant interventions of they were deemed to be a significant variable in terms of attendance namely, getting to the centre and participating with the relevant language translator if needed. In some instances, there is no specific available research relevant to the variable so I have had to deduce a relevant range based on the current experience in designing the service.\n",
    "\n",
    "So in creating a data set, I would like to synthesise and model a data set thay may help establish if there is a link between non-attendance at groups sessions and certain variables which are shown in Table 1 below.\n",
    "\n",
    "### Table 1: Variables and descriptions of inputs for dataset\n",
    "\n",
    "| **Variable** | **Description of Variable** | **Input Options for Variable** |\n",
    "|--------------|-----------------------------|--------------------------------|\n",
    "| sessions | Number of sessions attended out of 14 sessions | Numeric vector between 1 to 14 |\n",
    "| distance | Travel distance of home from community centre in miles | Numeric vector between 0.1 and 1.4 |\n",
    "| transport | Usual mode of transport e.g., owncar=own car, familycar=family or spouse car, public=public transport, pedestrian=pedestrian, bicycle=bicycle) | Text options owncar, familycar, public, pedestrian, bicycle |\n",
    "| language | The proficiency of English language speaking and understanding of the participant as denoted by very high=vhigh, high=high, moderate=mod, low=low, very low=vlow | Text options vhigh, high, mod, low, vlow |\n",
    "\n",
    "I am going to create a dataset for 30 attendees at a community group sessions for people living with dementia with the above variables. In so doing I am to collect 120 data points across 4 variables.\n"
   ]
  },
  {
   "cell_type": "markdown",
   "metadata": {},
   "source": [
    "## Investigation of variables\n",
    "\n",
    "[Instruction: Investigate the types of variables involved, their likely distributions, and their\n",
    "relationships with each other.]\n",
    "\n",
    "### Sessions\n",
    "The number of potential sessions attended by participants in studies on CST range from 1 to 14 sessions.(<a href=\"/#ref1\">1</a>,&nbsp;<a href=\"/#ref5\">5</a>) Zero is not valid as they would not be considered participants unless they registered for and attended at least one session. In the trials on CST, the mean attendance was was 11.6 sessions (s.d.=3.2, range 2–14) and 89% of people attended seven or more sessions.(<a href=\"/#ref1\">1</a>)\n",
    "\n",
    "### Distance\n",
    "Distance in this context is relative to the distance a person which to attend resides from the community centre in which the group programmes are taking place.  Attendees at the programme are currently are from a single ward (St Panras and Somers Town ward in Camden Borogh in London) so the furthest location would be at the edge of the ward which as noted on Google maps is Agar Grove. So the furthest distance by car based on the maximum distance from living accommodation at the ward perimeter is 1.4 miles by car.[Google maps and Mapit UK ref] Unfortunately the main research pertaining to accessing dementia care programmes is in rural communities with longer travle required.[Morgan] However overall, some evidence suggests that distance to a healthcare facilities can result in worsened outcomes, a concept known as distace decay association.[kelly] For this purpose I shall state that the furthest a person would need to travel to access the group programme is 1.4 miles based on road netwrok based distance on Google which is used in some studies.[Kelly] Other studies on attendance at Emergency Departments have noted attendance counts in relation to distance have a Poisson distribution, with a degree of over-dispersion, so negative binomial regression may be the appropriate option.[Rudge]\n",
    "\n",
    "### Transport\n",
    "Available transport and the ability to use it has the potential to affect attendance at group sessions in many ways. Mobility can also affect a person's chosen mode of transport.  While efforts are made in many countries to accomodate the reduced mobility of many, this still can potentially effect in particular the use of public transport. Those with reduced mobility may find it difficult to use buses or trains.\n",
    "\n",
    "### Language\n",
    "language is a significant barriers to successful participation in group programmes. For example CST was designed in the English language, however as our company has a strong inclusivity ethic, we aim to facilitate particpation by people of any language through tranlation from their own family members or arranging a translator through the community."
   ]
  },
  {
   "cell_type": "code",
   "execution_count": null,
   "metadata": {},
   "outputs": [],
   "source": []
  },
  {
   "cell_type": "markdown",
   "metadata": {},
   "source": [
    "## Data set synthesis/simulation\n",
    "\n",
    "[Instruction: Synthesise/simulate a data set as closely matching their properties as possible.]"
   ]
  },
  {
   "cell_type": "code",
   "execution_count": 2,
   "metadata": {},
   "outputs": [],
   "source": [
    "# import necessary numpy, pandas, matplotlib and seaborn packages and libraries [, ]\n",
    "\n",
    "import numpy as np\n",
    "import pandas as pd\n",
    "import matplotlib.pyplot as plt\n",
    "import seaborn as sns\n",
    "sns.set(style=\"darkgrid\")"
   ]
  },
  {
   "cell_type": "code",
   "execution_count": null,
   "metadata": {},
   "outputs": [],
   "source": []
  },
  {
   "cell_type": "markdown",
   "metadata": {},
   "source": [
    "## Research detail and implementation\n",
    "\n",
    "[Instruction: Detail your research and implement the simulation in a Jupyter notebook – the\n",
    "data set itself can simply be displayed in an output cell within the notebook.]"
   ]
  },
  {
   "cell_type": "code",
   "execution_count": null,
   "metadata": {},
   "outputs": [],
   "source": []
  },
  {
   "cell_type": "markdown",
   "metadata": {},
   "source": [
    "## References\n",
    "\n",
    "<li><a name=\"ref1\"></a>1. Spector A, Thorgrimsen L, Woods B, Royan L, Davies S, Butterworth M, et al. Efficacy of an evidence-based cognitive stimulation therapy programme for people with dementia: randomised controlled trial. Br J Psychiatry. 2003;183:248-54.</li>\n",
    "<li><a name=\"ref2\"></a>2. Spector A., Orrell M., Woods B. Cognitive Stimulation Therapy: The Evidence-Base. 2019 Available from: http://www.cstdementia.com/page/the-evidence-base.</li>\n",
    "<li><a name=\"ref3\"></a>3. National Guideline Alliance (UK). Dementia: Assessment, management and support for people living with dementia and their carers. 2018 June 2018. Available from: https://www.nice.org.uk/guidance/ng97/evidence/full-guideline-pdf-4852695709</li>\n",
    "<li><a name=\"ref4\"></a>4. Alzheimer's Disease International. World Alzheimer's Report 2011: The benefits of early diagnosis and intervention2011. Available from: https://www.alz.co.uk/research/WorldAlzheimerReport2011.pdf.</li>\n",
    "<li><a name=\"ref5\"></a>5. Orgeta V, Leung P, Yates L, Kang S, Hoare Z, Henderson C, et al. Individual cognitive stimulation therapy for dementia: a clinical effectiveness and cost-effectiveness pragmatic, multicentre, randomised controlled trial. Health Technol Assess. 2015;19(64):1-108.</li>\n",
    "<li><a name=\"ref6\"></a>6. Spector A, Stoner CR, Chandra M, Vaitheswaran S, Du B, Comas-Herrera A, et al. Mixed methods implementation research of cognitive stimulation therapy (CST) for dementia in low and middle-income countries: study protocol for Brazil, India and Tanzania (CST-International). BMJ Open. 2019;9(8):e030933.</li>\n",
    "<li><a name=\"ref7\"></a>7. Kenning C, Daker-White G, Blakemore A, Panagioti M, Waheed W. Barriers and facilitators in accessing dementia care by ethnic minority groups: a meta-synthesis of qualitative studies. BMC Psychiatry. 2017;17(1):316.</li>\n",
    "\n",
    "Google Maps. Distance Agar Grove to Ossulton Street. 2019. Available from: https://www.google.com/maps/dir/Babytop+Movement,+52+Agar+Grove,+London+NW1+9SN,+United+Kingdom/The+St+Pancras+%26+Somers+Town+Living+Centre,+Ossulston+Street,+London,+UK/@51.5378746,-0.1445447,15z/data=!3m1!4b1!4m14!4m13!1m5!1m1!1s0x48761b10f0a2f587:0x63aad0ea50116ec4!2m2!1d-0.1321253!2d51.5427689!1m5!1m1!1s0x48761b3b4647f87d:0xf6acc51aa9e46b76!2m2!1d-0.129785!2d51.5310901!3e0\n",
    "\n",
    "MapIt UK. St Pancras and Somers Town. 2019. Available from https://mapit.mysociety.org/area/8594.html\n",
    "\n",
    "Morgan DG, Semchuk KM, Stewart NJ, D'Arcy C. Rural families caring for a relative with dementia: barriers to use of formal services. Soc Sci Med. 2002;55(7):1129-42.\n",
    "\n",
    "Kelly C, Hulme C, Farragher T, Clarke G. Are differences in travel time or distance to healthcare for adults in global north countries associated with an impact on health outcomes? A systematic review. BMJ Open. 2016;6(11):e013059.\n",
    "\n",
    "Rudge GM, Mohammed MA, Fillingham SC, Girling A, Sidhu K, Stevens AJ. The Combined Influence of Distance and Neighbourhood Deprivation on Emergency Department Attendance in a Large English Population: A Retrospective Database Study. PLOS ONE. 2013;8(7):e67943.\n",
    "\n",
    "Michael Waskom. Official seaborn tutorial. Seaborn. Available from: https://seaborn.pydata.org/tutorial.html (Last accessed 29 November 2019)\n",
    "\n"
   ]
  },
  {
   "cell_type": "code",
   "execution_count": null,
   "metadata": {},
   "outputs": [],
   "source": []
  }
 ],
 "metadata": {
  "kernelspec": {
   "display_name": "Python 3",
   "language": "python",
   "name": "python3"
  },
  "language_info": {
   "codemirror_mode": {
    "name": "ipython",
    "version": 3
   },
   "file_extension": ".py",
   "mimetype": "text/x-python",
   "name": "python",
   "nbconvert_exporter": "python",
   "pygments_lexer": "ipython3",
   "version": "3.7.3"
  }
 },
 "nbformat": 4,
 "nbformat_minor": 2
}
