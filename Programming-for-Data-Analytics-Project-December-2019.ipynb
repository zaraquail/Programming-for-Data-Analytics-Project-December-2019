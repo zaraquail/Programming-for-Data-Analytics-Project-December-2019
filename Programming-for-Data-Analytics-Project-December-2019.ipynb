{
 "cells": [
  {
   "cell_type": "markdown",
   "metadata": {},
   "source": [
    "# Programming for Data Analytics Project December 2019"
   ]
  },
  {
   "cell_type": "markdown",
   "metadata": {},
   "source": [
    "Student: Zara Quail \n",
    "\n",
    "Student Number: G00376517"
   ]
  },
  {
   "cell_type": "markdown",
   "metadata": {},
   "source": [
    "## Description of a real-world phenomenon for simulation\n"
   ]
  },
  {
   "cell_type": "markdown",
   "metadata": {},
   "source": [
    "# Model and synthesise the data for the real-world phenomenon using python\n",
    "#Instructions: For this project you must create a data set by simulating a real-world phenomenon of your choosing. You may pick any phenomenon you wish – you might pick one that is of interest to you in your personal or professional life. Then, rather than collect data related to the phenomenon, you should model and synthesise such data using Python. We suggest you use the numpy.random package for this purpose."
   ]
  },
  {
   "cell_type": "markdown",
   "metadata": {},
   "source": [
    "## Problem statement\n",
    "\n",
    "\n",
    "I work for a company providing non-pharmacological therapy and activity sessions for people living with dementia. There are free group sessions offered at community centres in the area in which the company are working. The therapies and activities are most effective when applied regularly and it has been shown that regular attendance is related to better outcomes. However there are some attendees who do not attend regularly or who stop attending. People living with dementia have a number of symptoms affecting their cognition for which cognitive stimulation therapy (CST) has been shown to be an effective non-pharmacological intervention with results comparable to pharmaceutical trial outcomes,[1][2] and is recommended by national and international guideline.[3][4] Cognitive stimulation is defined as “engaging in a range of activities and discussions that are aimed at general improvement of cognitive and social functioning”.[3] CST is recommended for people with mild to moderate dementia and is usually delivered in a group setting.[3] Numerous trials have shown that CST is an effective treatment to improve cognition (including memory, orientation, language and visuospatial abilities) and quality of life in people with mild to moderate dementia.[2] The group session are usually delivered as a 14-session programme delivered twice a week over 7 weeks in a group setting.[1][5] However, in order to ensure efficacy of the intervention, regular attendance at the group sessions over the 7 weeks is required. In planning implementation of community-based group cognitive stimulation therapy sessions in the real-world setting for the company I work for, we aim to identify potential barriers to group session attendance and plan measures to overcome barriers to attendance. The barriers in this case are specific variables. In assessing the potential variables and data relating to this, I have looked for studies that assess barriers to attendance at group activities for older people, where possible focusing on those living with dementia in the community (rather than in care homes or residential facilities). Studies on implementation of CST programmes in various communities are still underway,[6] but in general, identified barriers to dementia care programmes and the likes of CST include lack of awareness of dementia and available supports; training and support of staff to deliver CST; cultural, gender and age issues; language barriers; transport and proximity to the centre in which the programme is delivered.[6][7] While our staff are already trained in CST and there is a community engagement team increasing awareness on dementia, there are modifiable issues that the company can potentially address to ensure attendance at group sessions. Based on previous experience in setting up the group sessions, I hypothesise that the relevant variables affecting attendance may include the stage or severity of the dementia, the distance at which the participant lives from the community centre, available support in their living environment, their mobility and related to mobility, their available transport and their home language. I would like to address the issues for which we could arrange relevant interventions of they were deemed to be a significant variable in terms of attendance namely, getting to the centre and participating with the relevant language translator if needed. In some instances, there is no specific available research relevant to the variable so I have had to deduce a relevant range based on the current experience in designing the service. Even though some of the variables have had to be estimated, e.g., distance to the centre based on the fact that attendees currently are from 2 different wards, so distance was based on the maximum distance from the perimeters.\n",
    "\n",
    "So in creating a data set, I would like to synthesis and model a data set thay may help establish if there is a link between non-attendance at groups sessions and certain modifiable variables which are shown in Table 1 below.\n",
    "\n",
    "### Table 1: Variables and descriptions of inputs for dataset\n",
    "\n",
    "| **Variable** | **Description of Variable** | **Input Options for Variable** |\n",
    "|--------------|-----------------------------|--------------------------------|\n",
    "| sessions | Number of sessions attended out of 14 sessions | Numeric vector between 1 to 14 |\n",
    "| distance | Distance of home from community centre in kilometers | Numeric vector between 0 and 50 |\n",
    "| mobility | Mobility indicating use of mobility aid e.g., walks unaided, walks with walking aid (walking stick, cane, walker), uses wheelchair | Text options unaided, aid, wheelchair |\n",
    "| transport | Usual mode of transport e.g., owncar=own car, familycar=family or spouse car, public=public transport, pedestrian=pedestrian, bicycle=bicycle) | Text options owncar, familycar, public, pedestrian, bicycle |\n",
    "| language | The proficiency of English language speaking and understanding of the participant as denoted by very high=vhigh, high=high, moderate=mod, low=low, very low=vlow | Text options vhigh, high, mod, low, vlow |\n",
    "\n",
    "I am going to create a dataset for 25 attendees at a community group sessions for people living with dementia with the above variables. In so doing I am to collect 125 data points across 5 variables.\n"
   ]
  },
  {
   "cell_type": "markdown",
   "metadata": {},
   "source": [
    "## Investigation of variables\n",
    "\n",
    "[Instruction: Investigate the types of variables involved, their likely distributions, and their\n",
    "relationships with each other.]\n",
    "\n",
    "### Sessions\n",
    "The number of sessions attended by participants in studies on CST range from XXX to XXX [ref]\n",
    "\n",
    "### Distance\n",
    "Distance from the community centre in which the group programmes for people living with dementia \n",
    "\n",
    "### Mobility\n",
    "Mobility can affect a person's mode of transport. While efforts are made in many coutnries to accomodate the reduced mobility of many, this still can potentially effect in particular the use of public transport. Those with reduced mobility may find it difficult to use buses or trains.\n",
    "\n",
    "### Transport\n",
    "Linked in with mobility, available transport and the ability to use it has the potential to affect attendance at group sessions in many ways.\n",
    "\n",
    "### Language\n",
    "language is a significant barriers to successful participation in group programmes. For example CST was designed in the English language, however as our company has a strong inclusivity ethic, we aim to facilitate particpation by people of any language through tranlation from their own family members or arranging a translator through the community."
   ]
  },
  {
   "cell_type": "code",
   "execution_count": 2,
   "metadata": {},
   "outputs": [],
   "source": [
    "# import necessary numpy, pandas, matplotlib and seaborn packages and libraries [, ]\n",
    "\n",
    "import numpy as np\n",
    "import pandas as pd\n",
    "import matplotlib.pyplot as plt\n",
    "import seaborn as sns\n",
    "sns.set(style=\"darkgrid\")"
   ]
  },
  {
   "cell_type": "code",
   "execution_count": null,
   "metadata": {},
   "outputs": [],
   "source": []
  },
  {
   "cell_type": "markdown",
   "metadata": {},
   "source": [
    "## Data set synthesis/simulation\n",
    "\n",
    "[Instruction: Synthesise/simulate a data set as closely matching their properties as possible.]"
   ]
  },
  {
   "cell_type": "code",
   "execution_count": null,
   "metadata": {},
   "outputs": [],
   "source": []
  },
  {
   "cell_type": "markdown",
   "metadata": {},
   "source": [
    "## Research detail and implementation\n",
    "\n",
    "[Instruction: Detail your research and implement the simulation in a Jupyter notebook – the\n",
    "data set itself can simply be displayed in an output cell within the notebook.]"
   ]
  },
  {
   "cell_type": "code",
   "execution_count": null,
   "metadata": {},
   "outputs": [],
   "source": []
  },
  {
   "cell_type": "markdown",
   "metadata": {},
   "source": [
    "## References\n",
    "\n",
    "1.\tSpector A, Thorgrimsen L, Woods B, Royan L, Davies S, Butterworth M, et al. Efficacy of an evidence-based cognitive stimulation therapy programme for people with dementia: randomised controlled trial. Br J Psychiatry. 2003;183:248-54.\n",
    "2.\tSpector A., Orrell M., Woods B. Cognitive Stimulation Therapy: The Evidence-Base. 2019 Available from: http://www.cstdementia.com/page/the-evidence-base.\n",
    "3.\tNational Guideline Alliance (UK). Dementia: Assessment, management and support for people living with dementia and their carers. 2018 June 2018. Available from: https://www.nice.org.uk/guidance/ng97/evidence/full-guideline-pdf-4852695709 \n",
    "4.\tAlzheimer's Disease International. World Alzheimer's Report 2011: The benefits of early diagnosis and intervention2011. Available from: https://www.alz.co.uk/research/WorldAlzheimerReport2011.pdf.\n",
    "5.\tOrgeta V, Leung P, Yates L, Kang S, Hoare Z, Henderson C, et al. Individual cognitive stimulation therapy for dementia: a clinical effectiveness and cost-effectiveness pragmatic, multicentre, randomised controlled trial. Health Technol Assess. 2015;19(64):1-108.\n",
    "6.\tSpector A, Stoner CR, Chandra M, Vaitheswaran S, Du B, Comas-Herrera A, et al. Mixed methods implementation research of cognitive stimulation therapy (CST) for dementia in low and middle-income countries: study protocol for Brazil, India and Tanzania (CST-International). BMJ Open. 2019;9(8):e030933.\n",
    "7.\tKenning C, Daker-White G, Blakemore A, Panagioti M, Waheed W. Barriers and facilitators in accessing dementia care by ethnic minority groups: a meta-synthesis of qualitative studies. BMC Psychiatry. 2017;17(1):316.\n",
    "\n",
    "Michael Waskom. Official seaborn tutorial. Seaborn. Available from: https://seaborn.pydata.org/tutorial.html (Last accessed 29 November 2019)\n",
    "\n",
    "2.\n",
    "\n",
    "3.\n",
    "\n",
    "4.\n"
   ]
  },
  {
   "cell_type": "code",
   "execution_count": null,
   "metadata": {},
   "outputs": [],
   "source": []
  }
 ],
 "metadata": {
  "kernelspec": {
   "display_name": "Python 3",
   "language": "python",
   "name": "python3"
  },
  "language_info": {
   "codemirror_mode": {
    "name": "ipython",
    "version": 3
   },
   "file_extension": ".py",
   "mimetype": "text/x-python",
   "name": "python",
   "nbconvert_exporter": "python",
   "pygments_lexer": "ipython3",
   "version": "3.7.3"
  }
 },
 "nbformat": 4,
 "nbformat_minor": 2
}
