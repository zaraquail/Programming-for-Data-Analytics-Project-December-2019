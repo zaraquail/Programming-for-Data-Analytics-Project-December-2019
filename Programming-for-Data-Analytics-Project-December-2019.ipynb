{
 "cells": [
  {
   "cell_type": "markdown",
   "metadata": {},
   "source": [
    "# Programming for Data Analytics Project December 2019"
   ]
  },
  {
   "cell_type": "markdown",
   "metadata": {},
   "source": [
    "Student: Zara Quail \n",
    "\n",
    "Student Number: G00376517"
   ]
  },
  {
   "cell_type": "markdown",
   "metadata": {},
   "source": [
    "## Description of a real-world phenomenon for simulation\n",
    "\n",
    "[Instruction: Choose a real-world phenomenon that can be measured and for which you could\n",
    "collect at least one-hundred data points across at least four different variables.]"
   ]
  },
  {
   "cell_type": "code",
   "execution_count": null,
   "metadata": {},
   "outputs": [],
   "source": [
    "# Model and synthesise the data for the real-world phenomenon using python"
   ]
  },
  {
   "cell_type": "markdown",
   "metadata": {},
   "source": [
    "## Problem statement\n",
    "Instructions: For this project you must create a data set by simulating a real-world phenomenon of\n",
    "your choosing. You may pick any phenomenon you wish – you might pick one that is\n",
    "of interest to you in your personal or professional life. Then, rather than collect data\n",
    "related to the phenomenon, you should model and synthesise such data using Python.\n",
    "We suggest you use the numpy.random package for this purpose.\n",
    "\n",
    "I work for a company providing non-pharmacological therapy and activity sessions for people living with dementia. There are free group sessions offered at community centres in the area in which the company are working. The therapies and activities are most effective when applied regularly and it has been shown that regular attendance is related to better outcomes. However there are some attendees who do not attend regularly or who stop attending. I would like to work out if there is a link between non-attendance and certain variables which are shown in Table 1 below.\n",
    "\n",
    "### Table 1: Variables and descriptions of inputs for dataset\n",
    "\n",
    "| **Variable** | **Description of Variable** | **Input Options for Variable** |\n",
    "|--------------|-----------------------------|--------------------------------|\n",
    "| sessions | Number of sessions attended out of 12 sessions | Numeric vector between 1 to 12 |\n",
    "| distance | Distance of home from community centre in kilometers | Numeric vector between 0 and 50 |\n",
    "| mobility | Mobility indicating use of mobility aid e.g., walks unaided, walks with walking aid (walking stick, cane, walker), uses wheelchair | Text options unaided, aid, wheelchair |\n",
    "| transport | Usual mode of transport e.g., owncar=own car, familycar=family or spouse car, public=public transport, pedestrian=pedestrian, bicycle=bicycle) | Text options owncar, familycar, public, pedestrian, bicycle |\n",
    "| language | The proficiency of English language speaking and understanding of the participant as denoted by very high=vhigh, high=high, moderate=mod, low=low, very low=vlow | Text options vhigh, high, mod, low, vlow |\n",
    "\n",
    "I am going to create a dataset for 25 attendees at a community group sessions for people living with dementia with the above variables.\n"
   ]
  },
  {
   "cell_type": "markdown",
   "metadata": {},
   "source": [
    "## Investigation of variables\n",
    "\n",
    "[Instruction: Investigate the types of variables involved, their likely distributions, and their\n",
    "relationships with each other.]\n",
    "\n",
    "People living with dementia have a number of symptoms affecting ther cognition for which an effective non-pharmacological intervention is cognitive stimulation therapy."
   ]
  },
  {
   "cell_type": "code",
   "execution_count": 2,
   "metadata": {},
   "outputs": [],
   "source": [
    "# import necessary numpy, pandas, matplotlib and seaborn packages and libraries [, ]\n",
    "\n",
    "import numpy as np\n",
    "import pandas as pd\n",
    "import matplotlib.pyplot as plt\n",
    "import seaborn as sns\n",
    "sns.set(style=\"darkgrid\")"
   ]
  },
  {
   "cell_type": "code",
   "execution_count": null,
   "metadata": {},
   "outputs": [],
   "source": []
  },
  {
   "cell_type": "markdown",
   "metadata": {},
   "source": [
    "## Data set synthesis/simulation\n",
    "\n",
    "[Instruction: Synthesise/simulate a data set as closely matching their properties as possible.]"
   ]
  },
  {
   "cell_type": "code",
   "execution_count": null,
   "metadata": {},
   "outputs": [],
   "source": []
  },
  {
   "cell_type": "markdown",
   "metadata": {},
   "source": [
    "## Research detail and implementation\n",
    "\n",
    "[Instruction: Detail your research and implement the simulation in a Jupyter notebook – the\n",
    "data set itself can simply be displayed in an output cell within the notebook.]"
   ]
  },
  {
   "cell_type": "code",
   "execution_count": null,
   "metadata": {},
   "outputs": [],
   "source": []
  },
  {
   "cell_type": "markdown",
   "metadata": {},
   "source": [
    "## References\n",
    "\n",
    "1. Michael Waskom. Official seaborn tutorial. Seaborn. Available from: https://seaborn.pydata.org/tutorial.html (Last accessed 29 November 2019)\n",
    "\n",
    "2.\n",
    "\n",
    "3.\n",
    "\n",
    "4.\n"
   ]
  },
  {
   "cell_type": "code",
   "execution_count": null,
   "metadata": {},
   "outputs": [],
   "source": []
  }
 ],
 "metadata": {
  "kernelspec": {
   "display_name": "Python 3",
   "language": "python",
   "name": "python3"
  },
  "language_info": {
   "codemirror_mode": {
    "name": "ipython",
    "version": 3
   },
   "file_extension": ".py",
   "mimetype": "text/x-python",
   "name": "python",
   "nbconvert_exporter": "python",
   "pygments_lexer": "ipython3",
   "version": "3.7.3"
  }
 },
 "nbformat": 4,
 "nbformat_minor": 2
}
