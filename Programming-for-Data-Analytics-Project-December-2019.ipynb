{
 "cells": [
  {
   "cell_type": "markdown",
   "metadata": {},
   "source": [
    "# Programming for Data Analytics Project December 2019"
   ]
  },
  {
   "cell_type": "markdown",
   "metadata": {},
   "source": [
    "Student: Zara Quail \n",
    "\n",
    "Student Number: G00376517"
   ]
  },
  {
   "cell_type": "markdown",
   "metadata": {},
   "source": [
    "## Description of a real-world phenomenon for simulation: Problem statement\n",
    "\n",
    "I work for a company providing non-pharmacological therapy and activity sessions for people living with dementia. There are free group sessions offered at community centres in the area in which the company are working. The therapies and activities are most effective when applied regularly and it has been shown that regular attendance is related to better outcomes. However there are some attendees who do not attend regularly or who stop attending. \n",
    "\n",
    "People living with dementia have a number of symptoms affecting their cognition for which cognitive stimulation therapy (CST) has been shown to be an effective non-pharmacological intervention with results comparable to pharmaceutical trial outcomes,(<a href=\"#ref1\">1</a>,&nbsp;<a href=\"#ref2\">2</a>) and is recommended by national and international guideline.(<a href=\"#ref3\">3</a>,&nbsp;<a href=\"#ref4\">4</a>) Cognitive stimulation is defined as “engaging in a range of activities and discussions that are aimed at general improvement of cognitive and social functioning”.(<a href=\"#ref3\">3</a>) CST is recommended for people with mild to moderate dementia and is usually delivered in a group setting.(<a href=\"#ref3\">3</a>) Numerous trials have shown that CST is an effective treatment to improve cognition (including memory, orientation, language and visuospatial abilities) and quality of life in people with mild to moderate dementia.(<a href=\"#ref2\">2</a>) The group session are usually delivered as a 14-session programme delivered twice a week over 7 weeks in a group setting.(<a href=\"#ref1\">1</a>,&nbsp;<a href=\"#ref5\">5</a>) However, in order to ensure efficacy of the intervention, regular attendance at the group sessions over the 7 weeks is required. In planning implementation of community-based group cognitive stimulation therapy sessions in the real-world setting for the company I work for, we aim to identify potential barriers to group session attendance and plan measures to overcome barriers to attendance. The barriers in this case are specific variables. In assessing the potential variables and data relating to this, I have looked for studies that assess barriers to attendance at group activities for older people, where possible focusing on those living with dementia in the community (rather than in care homes or residential facilities). Studies on implementation of CST programmes in various communities are still underway,(<a href=\"#ref6\">6</a>) but in general, identified barriers to dementia care programmes and the likes of CST include lack of awareness of dementia and available supports; training and support of staff to deliver CST; cultural, gender and age issues; language barriers; transport and proximity to the centre in which the programme is delivered.(<a href=\"#ref6\">6</a>,&nbsp;<a href=\"#ref7\">7</a>) While our staff are already trained in CST and there is a community engagement team increasing awareness on dementia, there are modifiable issues that the company can potentially address to ensure attendance at group sessions. Based on previous experience in setting up the group sessions, I hypothesise that the relevant variables affecting attendance may include the stage or severity of the dementia, the distance at which the participant lives from the community centre, available support in their living environment, their mobility and related to mobility, their available transport and their home language. I would like to address the issues for which we could arrange relevant interventions of they were deemed to be a significant variable in terms of attendance namely, getting to the centre and participating with the relevant language translator if needed. In some instances, there is no specific available research relevant to the variable so I have had to deduce a relevant range based on the current experience in designing the service.\n",
    "\n",
    "So in creating a data set, I would like to synthesise and model a data set thay may help establish if there is a link between non-attendance at groups sessions and certain variables which are shown in Table 1 below.\n",
    "\n",
    "### Table 1: Variables and descriptions of inputs for dataset\n",
    "\n",
    "| **Variable** | **Description of Variable** | **Input Options for Variable** |\n",
    "|--------------|-----------------------------|--------------------------------|\n",
    "| sessions | Number of sessions attended out of 14 sessions | Numeric vector between 1 to 14 |\n",
    "| distance | Travel distance of home from community centre in miles | Numeric vector between 0.1 and 1.4 |\n",
    "| transport | Usual mode of transport e.g., owncar=own car, familycar=family or spouse car, public=public transport, pedestrian=pedestrian, bicycle=bicycle) | Text options owncar, familycar, train, bus, taxi, pedestrian, bicycle |\n",
    "| language | The proficiency of English language speaking and understanding of the participant as denoted by very high=vhigh, high=high, moderate=mod, low=low, very low=vlow | Text options vhigh, high, mod, low, vlow |\n",
    "\n",
    "I am going to create a dataset for 25 attendees at a community group sessions for people living with dementia with the above variables. In so doing I am to collect 100 data points across 4 variables.\n"
   ]
  },
  {
   "cell_type": "markdown",
   "metadata": {},
   "source": [
    "## Investigation of variables\n",
    "\n",
    "In this section I have described my investigation the types of variables involved, their significance to assess for the service, their likely distributions, and their\n",
    "relationships with each other.\n",
    "\n",
    "### Sessions\n",
    "The number of potential sessions attended by participants in studies on CST range from 1 to 14 sessions.(<a href=\"#ref1\">1</a>,&nbsp;<a href=\"#ref5\">5</a>) Zero is not valid as they would not be considered participants unless they registered for and attended at least one session. In the trials on CST, the mean attendance was was 11.6 sessions (standard deviation=3.2, range 2–14) and 89% of people attended seven or more sessions.(<a href=\"#ref1\">1</a>) Apart from the noted attendance rate at CST, I could not find any specific studies relating to community dementia care programme attendance but one study on non-attendance at chronic disease outpatient treatments assessed associations between non-attendance and covariates (age, gender, marital status, education level, occupational status, specific chronic disease and number of outpatient treatment courses) using multivariate logistic regression models.(<a href=\"#ref8\">8</a>)\n",
    "\n",
    "### Distance\n",
    "Distance in this context is relative to the distance a person which to attend resides from the community centre in which the group programmes are taking place.  Attendees at the programme are currently are from a single ward (St Pancras and Somers Town ward in Camden Borough in London) so the furthest location would be at the edge of the ward which as noted on Google maps is Agar Grove. So the furthest distance by car based on the maximum distance from living accommodation at the ward perimeter is 1.4 miles by car.(<a href=\"#ref9\">9</a>,&nbsp;<a href=\"#ref10\">10</a>) Unfortunately the main research pertaining to accessing dementia care programmes is in rural communities with longer travel required.(<a href=\"#ref11\">11</a>) However overall, some evidence suggests that distance to a healthcare facilities can result in worsened outcomes, a concept known as distance decay association.(<a href=\"#ref12\">12</a>) A study on attendance in primary care in Papua New Guinea noted that attendance at primary care centres reduced with increased distance in a non-linear pattern suggesting that a bell-shaped demand function shoudl be used for health planning.(<a href=\"#ref13\">13</a>) In a retrospective database study on attendance at Emergency Departments in England based on distance and neighbourhood, it was that noted attendance counts in relation to distance have a Poisson distribution, with a degree of over-dispersion, so negative binomial regression may be the appropriate option.(<a href=\"#ref14\">14</a>) However, it is worth noting that these more acute health-related visits are different from a regular programme session attendance as would be presented in the group programmes for people with dementia. For the purpose of this project I shall state that the furthest a person would need to travel to access the group programme from within the ward is 1.4 miles,(<a href=\"#ref9\">9</a>) based on road network-based distance which is used in some studies.(<a href=\"#ref12\">12</a>) As it is known that one of the closest residential housing facilities is within 0.1 miles of the centre, the range of distance from the centre will be 0.1 to 1.4 miles in increment of 0.1 miles.\n",
    "\n",
    "### Transport\n",
    "Available transport and the ability to use it has the potential to affect attendance at group sessions in many ways. Mobility can also affect a person's chosen mode of transport.  While efforts are made in many countries to accommodate the reduced mobility of many, this still can potentially effect a particular choice of public transport and accessibility to the group session venue. For example, those with reduced mobility may find it difficult to use buses or trains. When choosing a venue to run a group programme, it is important o choose one with good accessibility, available parking and frequent transport links.(<a href=\"#ref15\">15</a>) Apart from noting the fact that transport that is appropriate and accessible is essential to help anyone living with dementia to live well, as well as access available day services and group programmes,(<a href=\"#ref16\">16</a>) I have not been able to find any specific research on what sort of distribution one would expect to find for transport use. In this case one could consider a uniform distribution as part of the exercise.\n",
    "\n",
    "### Language\n",
    "Language is a significant barriers to successful participation in group programmes. For example CST was designed in the English language, yet currently our company is delivering the programme in a culturally diverse area in which for many English may not be their first language and as a result, participation as well as health literacy based on the available English resources may be low. However as our company has a strong inclusivity ethic, we aim to facilitate particpation by people of any language through translation from their own family members or arranging a translator through the community. This can come at an additional cost so it would be useful to prove if there is an association between attendance and spoken and written English proficiency as based on the EF English Proficiency Test which is taken around the world and there can be some determination of proficiency in specific countries.(<a href=\"#ref17\">17</a>)"
   ]
  },
  {
   "cell_type": "markdown",
   "metadata": {},
   "source": [
    "## Data set synthesis/simulation\n",
    "\n",
    "In this section I have attempted to synthesise or simulate a data set as closely matching the property variables as possible. The code aspect has not gone as well as I had hoped."
   ]
  },
  {
   "cell_type": "code",
   "execution_count": 19,
   "metadata": {},
   "outputs": [
    {
     "data": {
      "text/plain": [
       "array([ 6, 11,  2,  4, 13, 12,  6, 10,  8,  2,  3,  9,  4,  9,  7,  5,  3,\n",
       "        4,  7, 12,  5,  1,  4, 10,  5])"
      ]
     },
     "execution_count": 19,
     "metadata": {},
     "output_type": "execute_result"
    }
   ],
   "source": [
    "# import necessary numpy and matplotlib packages and libraries\n",
    "\n",
    "import numpy as np\n",
    "import matplotlib.pyplot as plt\n",
    "\n",
    "#So I want to generate a random number of attendance at sessions for 30 participants so I generate 30 Random Integers Between 1 and 14 (ref 19)(<a href=\"#ref19\">19</a>)\n",
    "np.random.randint(low=1, high=14, size=25)"
   ]
  },
  {
   "cell_type": "markdown",
   "metadata": {},
   "source": [
    "#Participant number = P\n",
    "#Reminder of the variables:\n",
    "#Participants=25\n",
    "#sessions range 1 to 14\n",
    "#distance range 0.1 to 1.4\n",
    "#transport: owncar, familycar, train, bus, taxi, pedestrian, bicycle\n",
    "#language: vhigh, high, mod, low, vlow\n",
    "\n",
    "| **Participant** | **sessions** | **distance** | **transport** | **language** | \n",
    "|-----------------|--------------|--------------|---------------|--------------|\n",
    "| P1 | 6 |\n",
    "| P2 | 11 |\n",
    "| P3 | 2 |\n",
    "| P4 | 4 |\n",
    "| P5 | 13 |\n",
    "| P6 | 12 |\n",
    "| P7 | 6 |\n",
    "| P8 | 10 |\n",
    "| P9 | 8 |\n",
    "| P10 | 2 |\n",
    "| P11 | 3 |\n",
    "| P12 | 9 |\n",
    "| P13 | 4 |\n",
    "| P14 | 9 |\n",
    "| P15 | 7 |\n",
    "| P16 | 5 |\n",
    "| P17 | 3 |\n",
    "| P18 | 4 |\n",
    "| P19 | 7 |\n",
    "| P20 | 12 |\n",
    "| P21 | 5 |\n",
    "| P22 | 1 |\n",
    "| P23 | 4 |\n",
    "| P24 | 10 |\n",
    "| P25 | 5 |\n"
   ]
  },
  {
   "cell_type": "code",
   "execution_count": 14,
   "metadata": {},
   "outputs": [
    {
     "ename": "AttributeError",
     "evalue": "module 'numpy.random' has no attribute 'default_rng'",
     "output_type": "error",
     "traceback": [
      "\u001b[1;31m---------------------------------------------------------------------------\u001b[0m",
      "\u001b[1;31mAttributeError\u001b[0m                            Traceback (most recent call last)",
      "\u001b[1;32m<ipython-input-14-1e8420710fbe>\u001b[0m in \u001b[0;36m<module>\u001b[1;34m\u001b[0m\n\u001b[0;32m      2\u001b[0m \u001b[1;33m\u001b[0m\u001b[0m\n\u001b[0;32m      3\u001b[0m \u001b[0mmu\u001b[0m\u001b[1;33m,\u001b[0m \u001b[0msigma\u001b[0m \u001b[1;33m=\u001b[0m \u001b[1;36m11.6\u001b[0m\u001b[1;33m,\u001b[0m \u001b[1;36m3.2\u001b[0m \u001b[1;31m# mean and standard deviation\u001b[0m\u001b[1;33m\u001b[0m\u001b[1;33m\u001b[0m\u001b[0m\n\u001b[1;32m----> 4\u001b[1;33m \u001b[0ms\u001b[0m \u001b[1;33m=\u001b[0m \u001b[0mnp\u001b[0m\u001b[1;33m.\u001b[0m\u001b[0mrandom\u001b[0m\u001b[1;33m.\u001b[0m\u001b[0mdefault_rng\u001b[0m\u001b[1;33m(\u001b[0m\u001b[1;36m1\u001b[0m\u001b[1;33m-\u001b[0m\u001b[1;36m14\u001b[0m\u001b[1;33m)\u001b[0m\u001b[1;33m.\u001b[0m\u001b[0mnormal\u001b[0m\u001b[1;33m(\u001b[0m\u001b[0mmu\u001b[0m\u001b[1;33m,\u001b[0m \u001b[0msigma\u001b[0m\u001b[1;33m,\u001b[0m \u001b[1;36m14\u001b[0m\u001b[1;33m)\u001b[0m\u001b[1;33m\u001b[0m\u001b[1;33m\u001b[0m\u001b[0m\n\u001b[0m\u001b[0;32m      5\u001b[0m \u001b[1;33m\u001b[0m\u001b[0m\n\u001b[0;32m      6\u001b[0m \u001b[1;31m# verify the mean and variance (numpy.org)\u001b[0m\u001b[1;33m\u001b[0m\u001b[1;33m\u001b[0m\u001b[1;33m\u001b[0m\u001b[0m\n",
      "\u001b[1;31mAttributeError\u001b[0m: module 'numpy.random' has no attribute 'default_rng'"
     ]
    }
   ],
   "source": [
    "#Sessions attended draw samples from the normal distribution.  (Ref 18)\n",
    "\n",
    "mu, sigma = 11.6, 3.2 # mean and standard deviation\n",
    "s = np.random.default_rng(1-14).normal(mu, sigma, 14)\n",
    "\n",
    "# verify the mean and variance (numpy.org)\n",
    "abs(mu - np.mean(s))\n",
    "\n",
    "abs(sigma - np.std(s, ddof=3.2))"
   ]
  },
  {
   "cell_type": "code",
   "execution_count": 10,
   "metadata": {},
   "outputs": [
    {
     "ename": "AttributeError",
     "evalue": "module 'numpy.random' has no attribute 'default_rng'",
     "output_type": "error",
     "traceback": [
      "\u001b[1;31m---------------------------------------------------------------------------\u001b[0m",
      "\u001b[1;31mAttributeError\u001b[0m                            Traceback (most recent call last)",
      "\u001b[1;32m<ipython-input-10-bb1abab57602>\u001b[0m in \u001b[0;36m<module>\u001b[1;34m\u001b[0m\n\u001b[1;32m----> 1\u001b[1;33m \u001b[0mnp\u001b[0m\u001b[1;33m.\u001b[0m\u001b[0mrandom\u001b[0m\u001b[1;33m.\u001b[0m\u001b[0mdefault_rng\u001b[0m\u001b[1;33m(\u001b[0m\u001b[1;33m)\u001b[0m\u001b[1;33m.\u001b[0m\u001b[0mnormal\u001b[0m\u001b[1;33m(\u001b[0m\u001b[1;36m1\u001b[0m\u001b[1;33m,\u001b[0m \u001b[1;36m14\u001b[0m\u001b[1;33m,\u001b[0m \u001b[0msize\u001b[0m\u001b[1;33m=\u001b[0m\u001b[1;33m(\u001b[0m\u001b[1;36m1\u001b[0m\u001b[1;33m,\u001b[0m \u001b[1;36m30\u001b[0m\u001b[1;33m)\u001b[0m\u001b[1;33m)\u001b[0m\u001b[1;33m\u001b[0m\u001b[1;33m\u001b[0m\u001b[0m\n\u001b[0m",
      "\u001b[1;31mAttributeError\u001b[0m: module 'numpy.random' has no attribute 'default_rng'"
     ]
    }
   ],
   "source": [
    "np.random.default_rng().normal(1, 14, size=(1, 30))"
   ]
  },
  {
   "cell_type": "code",
   "execution_count": null,
   "metadata": {},
   "outputs": [],
   "source": [
    "\n",
    "s = np.random.uniform(1,14)\n",
    "\n",
    "np.all(s >= 1)\n",
    "np.all(s < 14)"
   ]
  },
  {
   "cell_type": "markdown",
   "metadata": {},
   "source": [
    "### Distance"
   ]
  },
  {
   "cell_type": "code",
   "execution_count": 4,
   "metadata": {},
   "outputs": [
    {
     "ename": "ImportError",
     "evalue": "cannot import name 'default_rng' from 'numpy.random' (C:\\Users\\Zara\\Anaconda3\\lib\\site-packages\\numpy\\random\\__init__.py)",
     "output_type": "error",
     "traceback": [
      "\u001b[1;31m---------------------------------------------------------------------------\u001b[0m",
      "\u001b[1;31mImportError\u001b[0m                               Traceback (most recent call last)",
      "\u001b[1;32m<ipython-input-4-ff7ba849696b>\u001b[0m in \u001b[0;36m<module>\u001b[1;34m\u001b[0m\n\u001b[0;32m      1\u001b[0m \u001b[1;31m#For distance, Poisson distribution suggested by Rudge et al (Rudge). Code as follows (Numpy.org):\u001b[0m\u001b[1;33m\u001b[0m\u001b[1;33m\u001b[0m\u001b[1;33m\u001b[0m\u001b[0m\n\u001b[1;32m----> 2\u001b[1;33m \u001b[1;32mfrom\u001b[0m \u001b[0mnumpy\u001b[0m\u001b[1;33m.\u001b[0m\u001b[0mrandom\u001b[0m \u001b[1;32mimport\u001b[0m \u001b[0mdefault_rng\u001b[0m\u001b[1;33m\u001b[0m\u001b[1;33m\u001b[0m\u001b[0m\n\u001b[0m\u001b[0;32m      3\u001b[0m \u001b[0mrg\u001b[0m \u001b[1;33m=\u001b[0m \u001b[0mdefault_rng\u001b[0m\u001b[1;33m(\u001b[0m\u001b[1;33m)\u001b[0m\u001b[1;33m\u001b[0m\u001b[1;33m\u001b[0m\u001b[0m\n\u001b[0;32m      4\u001b[0m \u001b[0mrg\u001b[0m\u001b[1;33m.\u001b[0m\u001b[0mstandard_normal\u001b[0m\u001b[1;33m(\u001b[0m\u001b[1;33m)\u001b[0m\u001b[1;33m\u001b[0m\u001b[1;33m\u001b[0m\u001b[0m\n\u001b[0;32m      5\u001b[0m \u001b[0mrg\u001b[0m\u001b[1;33m.\u001b[0m\u001b[0mbit_generator\u001b[0m\u001b[1;33m\u001b[0m\u001b[1;33m\u001b[0m\u001b[0m\n",
      "\u001b[1;31mImportError\u001b[0m: cannot import name 'default_rng' from 'numpy.random' (C:\\Users\\Zara\\Anaconda3\\lib\\site-packages\\numpy\\random\\__init__.py)"
     ]
    }
   ],
   "source": [
    "#For distance, Poisson distribution suggested by Rudge et al (Rudge). Code as follows (Ref 18): \n",
    "from numpy.random import default_rng\n",
    "rg = default_rng()\n",
    "rg.standard_normal()\n",
    "rg.bit_generator\n",
    "\n",
    "rng = np.random.default_rng()\n",
    "s = rng.poisson(0.1, 1.4)"
   ]
  },
  {
   "cell_type": "markdown",
   "metadata": {},
   "source": [
    "### Transport"
   ]
  },
  {
   "cell_type": "markdown",
   "metadata": {},
   "source": [
    "### Language"
   ]
  },
  {
   "cell_type": "markdown",
   "metadata": {},
   "source": [
    "## References\n",
    "\n",
    "<li><a name=\"ref1\"></a>1. Spector A, Thorgrimsen L, Woods B, Royan L, Davies S, Butterworth M, et al. Efficacy of an evidence-based cognitive stimulation therapy programme for people with dementia: randomised controlled trial. Br J Psychiatry. 2003;183:248-54.</li>\n",
    "<li><a name=\"ref2\"></a>2. Spector A., Orrell M., Woods B. Cognitive Stimulation Therapy: The Evidence-Base. 2019 Available from: http://www.cstdementia.com/page/the-evidence-base.</li>\n",
    "<li><a name=\"ref3\"></a>3. National Guideline Alliance (UK). Dementia: Assessment, management and support for people living with dementia and their carers. 2018 June 2018. Available from: https://www.nice.org.uk/guidance/ng97/evidence/full-guideline-pdf-4852695709</li>\n",
    "<li><a name=\"ref4\"></a>4. Alzheimer's Disease International. World Alzheimer's Report 2011: The benefits of early diagnosis and intervention2011. Available from: https://www.alz.co.uk/research/WorldAlzheimerReport2011.pdf.</li>\n",
    "<li><a name=\"ref5\"></a>5. Orgeta V, Leung P, Yates L, Kang S, Hoare Z, Henderson C, et al. Individual cognitive stimulation therapy for dementia: a clinical effectiveness and cost-effectiveness pragmatic, multicentre, randomised controlled trial. Health Technol Assess. 2015;19(64):1-108.</li>\n",
    "<li><a name=\"ref6\"></a>6. Spector A, Stoner CR, Chandra M, Vaitheswaran S, Du B, Comas-Herrera A, et al. Mixed methods implementation research of cognitive stimulation therapy (CST) for dementia in low and middle-income countries: study protocol for Brazil, India and Tanzania (CST-International). BMJ Open. 2019;9(8):e030933.</li>\n",
    "<li><a name=\"ref7\"></a>7. Kenning C, Daker-White G, Blakemore A, Panagioti M, Waheed W. Barriers and facilitators in accessing dementia care by ethnic minority groups: a meta-synthesis of qualitative studies. BMC Psychiatry. 2017;17(1):316.</li>\n",
    "<li><a name=\"ref8\"></a>8. Wolff DL, Waldorff FB, von Plessen C, Mogensen CB, Sørensen TL, Houlind KC, et al. Rate and predictors for non-attendance of patients undergoing hospital outpatient treatment for chronic diseases: a register-based cohort study. BMC Health Services Research. 2019;19(1):386.</li>\n",
    "<li><a name=\"ref9\"></a>9. Google Maps. Distance Agar Grove to Ossulton Street. 2019. Available from: https://www.google.com/maps/dir/Babytop+Movement,+52+Agar+Grove,+London+NW1+9SN,+United+Kingdom/The+St+Pancras+%26+Somers+Town+Living+Centre,+Ossulston+Street,+London,+UK/@51.5378746,-0.1445447,15z/data=!3m1!4b1!4m14!4m13!1m5!1m1!1s0x48761b10f0a2f587:0x63aad0ea50116ec4!2m2!1d-0.1321253!2d51.5427689!1m5!1m1!1s0x48761b3b4647f87d:0xf6acc51aa9e46b76!2m2!1d-0.129785!2d51.5310901!3e0</li>\n",
    "<li><a name=\"ref10\"></a>10. MapIt UK. St Pancras and Somers Town. 2019. Available from https://mapit.mysociety.org/area/8594.html</li>\n",
    "<li><a name=\"ref11\"></a>11. Morgan DG, Semchuk KM, Stewart NJ, D'Arcy C. Rural families caring for a relative with dementia: barriers to use of formal services. Soc Sci Med. 2002;55(7):1129-42.</li>\n",
    "<li><a name=\"ref12\"></a>12. Kelly C, Hulme C, Farragher T, Clarke G. Are differences in travel time or distance to healthcare for adults in global north countries associated with an impact on health outcomes? A systematic review. BMJ Open. 2016;6(11):e013059.</li>\n",
    "<li><a name=\"ref13\"></a>13. Muller I, Smith T Fau - Mellor S, Mellor S Fau - Rare L, Rare L Fau - Genton B, Genton B. The effect of distance from home on attendance at a small rural health centre in Papua New Guinea. (0300-5771 (Print)).</li>\n",
    "<li><a name=\"ref14\"></a>14. Rudge GM, Mohammed MA, Fillingham SC, Girling A, Sidhu K, Stevens AJ. The Combined Influence of Distance and Neighbourhood Deprivation on Emergency Department Attendance in a Large English Population: A Retrospective Database Study. PLOS ONE. 2013;8(7):e67943.</li>\n",
    "<li><a name=\"ref15\"></a>15. Gibb, M., O’Caheny, D., Craig, C., & Begley, E. (2019). The Next Steps: Dementia post-diagnostic support guidance. Tullamore: National Dementia Office. Available from: http://dementia.ie/images/uploads/site-images/The_Next_Steps_Interactive_PDF.pdf (Last accessed 16 December 2019)</li>\n",
    "<li><a name=\"ref16\"></a>16. Joplin, K; Age UK. Promising Approaches to Living Well with Dementia. Available from: https://www.ageuk.org.uk/globalassets/age-uk/documents/reports-and-publications/reports-and-briefings/health--wellbeing/rb_feb2018_promising_approaches_to_living_well_with_dementia_report.pdf (Last accessed 16 December 2019)</li>\n",
    "<li><a name=\"ref17\"></a>17. Wikipedia. EF English proficiency Test. 2019. Available from: https://en.wikipedia.org/wiki/EF_English_Proficiency_Index (Last accessed 16 December 2019)</li>\n",
    "<li><a name=\"ref18\"></a>18. NumPy.org. Random sampling (numpy.random). NumPy v1.17rc1 Manual. 2019. Available at: https://numpy.org/doc/1.17/reference/random/index.html (Last acessed: 16 December 2019)</li>\n",
    "<li><a name=\"ref19\"></a>19. Chris Albon. Generating Random Number with NumPy. 2020. Available from: https://chrisalbon.com/python/basics/generating_random_numbers_with_numpy/ (Last acessed: 16 December 2019)</li>\n",
    "\n"
   ]
  },
  {
   "cell_type": "code",
   "execution_count": null,
   "metadata": {},
   "outputs": [],
   "source": []
  }
 ],
 "metadata": {
  "kernelspec": {
   "display_name": "Python 3",
   "language": "python",
   "name": "python3"
  },
  "language_info": {
   "codemirror_mode": {
    "name": "ipython",
    "version": 3
   },
   "file_extension": ".py",
   "mimetype": "text/x-python",
   "name": "python",
   "nbconvert_exporter": "python",
   "pygments_lexer": "ipython3",
   "version": "3.7.3"
  }
 },
 "nbformat": 4,
 "nbformat_minor": 2
}
